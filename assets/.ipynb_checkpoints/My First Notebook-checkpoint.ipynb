{
 "cells": [
  {
   "cell_type": "markdown",
   "id": "bb393433-0550-46c3-a375-278199556a49",
   "metadata": {},
   "source": [
    "# Alex Garcia\n",
    "I am pursuing a mechanical engineering degree and need this for my literature class."
   ]
  },
  {
   "cell_type": "code",
   "execution_count": null,
   "id": "0ad4f10d-59de-4a37-a7ac-c00826828c38",
   "metadata": {},
   "outputs": [],
   "source": [
    "For this first bit of code, I want to load a file and check to see that it loaded. After that, I am going to break "
   ]
  },
  {
   "cell_type": "code",
   "execution_count": 1,
   "id": "042ada7a-4de0-4cb9-b14a-77388f325e73",
   "metadata": {},
   "outputs": [],
   "source": [
    "# First, open a file\n",
    "\n",
    "dickens = open(\"Dickens.txt\", \"r\")"
   ]
  },
  {
   "cell_type": "code",
   "execution_count": 3,
   "id": "4e720420-887a-45de-b89e-6146fbb8b3be",
   "metadata": {},
   "outputs": [
    {
     "name": "stdout",
     "output_type": "stream",
     "text": [
      "<class 'str'>\n",
      "It was the best of times, it was the worst of times, it was the age of wisdom, it was the age of foolishness, it was the epoch of belief, it was the epoch of incredulity, it was the season of light, it was the season of darkness, it was the spring of hope, it was the winter of despair.\n"
     ]
    }
   ],
   "source": [
    "dickens = open(\"Dickens.txt\", \"r\").read()\n",
    "# Then check my work\n",
    "\n",
    "print(type(dickens))\n",
    "print(dickens)"
   ]
  },
  {
   "cell_type": "code",
   "execution_count": 4,
   "id": "0009195c-c473-424b-94e1-472f7ef162a6",
   "metadata": {},
   "outputs": [
    {
     "data": {
      "text/plain": [
       "286"
      ]
     },
     "execution_count": 4,
     "metadata": {},
     "output_type": "execute_result"
    }
   ],
   "source": [
    "# Let's see how long the string is (in character):\n",
    "len(dickens)"
   ]
  },
  {
   "cell_type": "code",
   "execution_count": 5,
   "id": "2dc88c84-d80f-45ac-966f-c6bde946c576",
   "metadata": {},
   "outputs": [
    {
     "name": "stdout",
     "output_type": "stream",
     "text": [
      "<class 'list'>\n",
      "60\n",
      "['It', 'was', 'the', 'best', 'of', 'times,', 'it', 'was', 'the', 'worst', 'of', 'times,', 'it', 'was', 'the', 'age', 'of', 'wisdom,', 'it', 'was', 'the', 'age', 'of', 'foolishness,', 'it', 'was', 'the', 'epoch', 'of', 'belief,', 'it', 'was', 'the', 'epoch', 'of', 'incredulity,', 'it', 'was', 'the', 'season', 'of', 'light,', 'it', 'was', 'the', 'season', 'of', 'darkness,', 'it', 'was', 'the', 'spring', 'of', 'hope,', 'it', 'was', 'the', 'winter', 'of', 'despair.']\n"
     ]
    }
   ],
   "source": [
    "words = dickens.split(\" \")\n",
    "print(type(words))\n",
    "print(len(words))\n",
    "print(words)"
   ]
  },
  {
   "cell_type": "code",
   "execution_count": 7,
   "id": "2b1c4bf8-8aa5-4b9b-b83e-9ea6e8c646a1",
   "metadata": {},
   "outputs": [
    {
     "name": "stdout",
     "output_type": "stream",
     "text": [
      "It\n",
      "it\n"
     ]
    },
    {
     "data": {
      "text/plain": [
       "False"
      ]
     },
     "execution_count": 7,
     "metadata": {},
     "output_type": "execute_result"
    }
   ],
   "source": [
    "print(words[0])\n",
    "print(words[6])\n",
    "words[0] == words[6]"
   ]
  },
  {
   "cell_type": "code",
   "execution_count": null,
   "id": "570243d1-1d70-4723-a275-d9175ec9151e",
   "metadata": {},
   "outputs": [],
   "source": []
  }
 ],
 "metadata": {
  "kernelspec": {
   "display_name": "Python 3 (ipykernel)",
   "language": "python",
   "name": "python3"
  },
  "language_info": {
   "codemirror_mode": {
    "name": "ipython",
    "version": 3
   },
   "file_extension": ".py",
   "mimetype": "text/x-python",
   "name": "python",
   "nbconvert_exporter": "python",
   "pygments_lexer": "ipython3",
   "version": "3.10.16"
  }
 },
 "nbformat": 4,
 "nbformat_minor": 5
}
