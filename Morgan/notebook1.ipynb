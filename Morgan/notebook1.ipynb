{
 "cells": [
  {
   "cell_type": "markdown",
   "id": "b9d601ee-f1bf-4726-ae3a-4d3d94538c0b",
   "metadata": {},
   "source": [
    "# A'Nyrion Morgan\n",
    "Tell me something about you and why are you in this class?"
   ]
  },
  {
   "cell_type": "code",
   "execution_count": null,
   "id": "e5106c6c-e836-46f8-8e4d-45d92b18dcef",
   "metadata": {},
   "outputs": [],
   "source": [
    "A'Nyrion Morgan"
   ]
  },
  {
   "cell_type": "code",
   "execution_count": null,
   "id": "23de3596-c63b-46d5-980e-2b73e9f319d0",
   "metadata": {},
   "outputs": [],
   "source": [
    "#First open a file\n"
   ]
  }
 ],
 "metadata": {
  "kernelspec": {
   "display_name": "Python 3 (ipykernel)",
   "language": "python",
   "name": "python3"
  },
  "language_info": {
   "codemirror_mode": {
    "name": "ipython",
    "version": 3
   },
   "file_extension": ".py",
   "mimetype": "text/x-python",
   "name": "python",
   "nbconvert_exporter": "python",
   "pygments_lexer": "ipython3",
   "version": "3.10.16"
  }
 },
 "nbformat": 4,
 "nbformat_minor": 5
}
