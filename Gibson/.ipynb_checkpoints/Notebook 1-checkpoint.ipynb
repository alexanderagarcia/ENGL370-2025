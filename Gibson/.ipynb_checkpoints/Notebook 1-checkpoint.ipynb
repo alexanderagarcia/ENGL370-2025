{
 "cells": [
  {
   "cell_type": "markdown",
   "id": "0fa21417-214b-4297-a24d-4ba007aa42a3",
   "metadata": {},
   "source": [
    "# A'Jacia Gibson\n",
    "\n",
    "Tell me something about you and why you are in this class"
   ]
  },
  {
   "cell_type": "code",
   "execution_count": null,
   "id": "c59063e2-97af-4fe7-9417-ab69621a4311",
   "metadata": {},
   "outputs": [],
   "source": [
    "# First, open a file\n"
   ]
  }
 ],
 "metadata": {
  "kernelspec": {
   "display_name": "Python 3 (ipykernel)",
   "language": "python",
   "name": "python3"
  },
  "language_info": {
   "codemirror_mode": {
    "name": "ipython",
    "version": 3
   },
   "file_extension": ".py",
   "mimetype": "text/x-python",
   "name": "python",
   "nbconvert_exporter": "python",
   "pygments_lexer": "ipython3",
   "version": "3.10.16"
  }
 },
 "nbformat": 4,
 "nbformat_minor": 5
}
